{
 "cells": [
  {
   "cell_type": "code",
   "execution_count": 97,
   "metadata": {},
   "outputs": [
    {
     "name": "stdout",
     "output_type": "stream",
     "text": [
      "Please enter URLhttps://stackoverflow.com/questions/52317636/import-excel-file-in-to-python-as-a-list\n",
      "The Given URL Is Not In White-List\n"
     ]
    }
   ],
   "source": [
    "import urllib\n",
    "import xlrd\n",
    "\n",
    "from urllib.parse import urlparse\n",
    "\n",
    "wb = xlrd.open_workbook(r\"Downloads\\URLs_to_compare.xlsx\")\n",
    "ws = wb.sheet_by_index(0)\n",
    "mylist = ws.col_values(0)\n",
    "\n",
    "x= input(\"Please enter URL\")\n",
    "o = urlparse(x)\n",
    "o.netloc\n",
    "y = o.netloc\n",
    "\n",
    "\n",
    "if y in mylist:\n",
    "    print(\"The Given URL Is In White-Listed Domain\")\n",
    "        \n",
    "else:\n",
    "    print(\"The Given URL Is Not In White-List\")\n",
    "  "
   ]
  },
  {
   "cell_type": "code",
   "execution_count": 95,
   "metadata": {},
   "outputs": [
    {
     "name": "stdout",
     "output_type": "stream",
     "text": [
      "The Given URL Is In White-Listed Domain\n"
     ]
    }
   ],
   "source": [
    "      \n",
    "    \n"
   ]
  },
  {
   "cell_type": "code",
   "execution_count": 93,
   "metadata": {},
   "outputs": [
    {
     "name": "stdout",
     "output_type": "stream",
     "text": [
      "The Given URL Is In White-Listed Domain\n"
     ]
    }
   ],
   "source": []
  },
  {
   "cell_type": "code",
   "execution_count": null,
   "metadata": {},
   "outputs": [],
   "source": []
  },
  {
   "cell_type": "code",
   "execution_count": null,
   "metadata": {},
   "outputs": [],
   "source": []
  },
  {
   "cell_type": "code",
   "execution_count": null,
   "metadata": {},
   "outputs": [],
   "source": []
  }
 ],
 "metadata": {
  "kernelspec": {
   "display_name": "Python 3",
   "language": "python",
   "name": "python3"
  },
  "language_info": {
   "codemirror_mode": {
    "name": "ipython",
    "version": 3
   },
   "file_extension": ".py",
   "mimetype": "text/x-python",
   "name": "python",
   "nbconvert_exporter": "python",
   "pygments_lexer": "ipython3",
   "version": "3.8.5"
  }
 },
 "nbformat": 4,
 "nbformat_minor": 4
}
